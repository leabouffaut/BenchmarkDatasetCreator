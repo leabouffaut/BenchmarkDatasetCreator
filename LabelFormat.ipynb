{
 "cells": [
  {
   "cell_type": "markdown",
   "id": "1a0242d3-db70-4aa4-be9f-a44b89a54202",
   "metadata": {},
   "source": [
    "`<LatinNameAccronym>.<Location>.<CallName>`\n",
    "\n",
    "Where \n",
    "* `<LatinNameAccronym>` is a 6-letter combination of the first letters of each word,\n",
    "* `<Location>` a 4-letter combination describing the geographical location of the recorder.\n",
    "    - If underwater, give cardinal direction and abbreviation of the ocean/sea,\n",
    "    - If on land, the first two letters are to specify the region and the last two letters are the ISO 3166 country codes \\url{https://en.wikipedia.org/wiki/ISO_3166-1_alpha-2#ZZ},\n",
    "\n",
    "* `<CallName>` free-format vocalization descriptor."
   ]
  }
 ],
 "metadata": {
  "kernelspec": {
   "display_name": "Python 3 (ipykernel)",
   "language": "python",
   "name": "python3"
  },
  "language_info": {
   "codemirror_mode": {
    "name": "ipython",
    "version": 3
   },
   "file_extension": ".py",
   "mimetype": "text/x-python",
   "name": "python",
   "nbconvert_exporter": "python",
   "pygments_lexer": "ipython3",
   "version": "3.8.16"
  }
 },
 "nbformat": 4,
 "nbformat_minor": 5
}
